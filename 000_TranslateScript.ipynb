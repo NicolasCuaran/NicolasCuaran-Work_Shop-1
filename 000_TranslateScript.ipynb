{
 "cells": [
  {
   "cell_type": "code",
   "execution_count": 1,
   "metadata": {},
   "outputs": [],
   "source": [
    "import os\n",
    "import pandas as pd\n",
    "from sqlalchemy import create_engine, text\n",
    "from sqlalchemy_utils import database_exists, create_database\n",
    "from dotenv import load_dotenv"
   ]
  },
  {
   "cell_type": "code",
   "execution_count": 2,
   "metadata": {},
   "outputs": [],
   "source": [
    "load_dotenv(\"../.env\")\n",
    "\n",
    "user = os.getenv(\"PG_USER\")\n",
    "password = os.getenv(\"PG_PASSWORD\")\n",
    "host = os.getenv(\"PG_HOST\")\n",
    "port = os.getenv(\"PG_PORT\")\n",
    "database = os.getenv(\"PG_DATABASE\")"
   ]
  },
  {
   "cell_type": "code",
   "execution_count": 3,
   "metadata": {},
   "outputs": [],
   "source": [
    "url = f\"postgresql://{user}:{password}@{host}:{port}/{database}\"\n",
    "engine = create_engine(url)"
   ]
  },
  {
   "cell_type": "code",
   "execution_count": 4,
   "metadata": {},
   "outputs": [
    {
     "name": "stdout",
     "output_type": "stream",
     "text": [
      "Base de datos 'Workshop1' creada.\n"
     ]
    }
   ],
   "source": [
    "if not database_exists(engine.url):\n",
    "    create_database(engine.url)\n",
    "    print(f\"Base de datos '{database}' creada.\")\n",
    "else:\n",
    "    print(f\"Conectando a la base de datos existente '{database}'.\")"
   ]
  },
  {
   "cell_type": "code",
   "execution_count": 5,
   "metadata": {},
   "outputs": [
    {
     "name": "stdout",
     "output_type": "stream",
     "text": [
      "Leyendo el archivo CSV\n",
      "Archivo CSV leido: 50000 filas, 10 columnas.\n"
     ]
    }
   ],
   "source": [
    "csv_file = \"candidates.csv\"\n",
    "print(\"Leyendo el archivo CSV\")\n",
    "df = pd.read_csv(csv_file, sep=';')\n",
    "print(f\"Archivo CSV leido: {df.shape[0]} filas, {df.shape[1]} columnas.\")"
   ]
  },
  {
   "cell_type": "code",
   "execution_count": 6,
   "metadata": {},
   "outputs": [
    {
     "data": {
      "text/plain": [
       "1000"
      ]
     },
     "execution_count": 6,
     "metadata": {},
     "output_type": "execute_result"
    }
   ],
   "source": [
    "df.to_sql('Candidates', engine, if_exists='append', index=False)"
   ]
  }
 ],
 "metadata": {
  "kernelspec": {
   "display_name": "venv",
   "language": "python",
   "name": "python3"
  },
  "language_info": {
   "codemirror_mode": {
    "name": "ipython",
    "version": 3
   },
   "file_extension": ".py",
   "mimetype": "text/x-python",
   "name": "python",
   "nbconvert_exporter": "python",
   "pygments_lexer": "ipython3",
   "version": "3.11.4"
  }
 },
 "nbformat": 4,
 "nbformat_minor": 2
}
